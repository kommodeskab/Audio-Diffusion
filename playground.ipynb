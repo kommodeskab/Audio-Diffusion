{
 "cells": [
  {
   "cell_type": "code",
   "execution_count": 33,
   "metadata": {},
   "outputs": [
    {
     "name": "stdout",
     "output_type": "stream",
     "text": [
      "torch.Size([16, 1, 64000])\n",
      "torch.Size([16, 81, 401])\n",
      "torch.Size([16, 64000])\n"
     ]
    }
   ],
   "source": [
    "import torch\n",
    "from torch import Tensor\n",
    "from torch.utils.data import Dataset, DataLoader\n",
    "import torchaudio\n",
    "from src.dataset import NoisySpeech\n",
    "\n",
    "def get_batch_from_dataset(dataset : Dataset, batch_size : int, shuffle : bool = False) -> Tensor:\n",
    "    dataloader = DataLoader(dataset, batch_size = batch_size, shuffle = shuffle)\n",
    "    return next(iter(dataloader))\n",
    "\n",
    "sample_rate = 16000\n",
    "dataset = NoisySpeech(audio_length=4, sample_rate=sample_rate)\n",
    "batch = get_batch_from_dataset(dataset, batch_size=16)\n",
    "x0, x1 = batch\n",
    "\n",
    "print(x0.shape)\n",
    "torchaudio.save(\"clean.wav\", x0[0], 16000)\n",
    "\n",
    "n_fft = 160\n",
    "hop_length = 160\n",
    "win_length = n_fft\n",
    "spectrogram = torch.stft(x0.squeeze(1), n_fft, hop_length, win_length, return_complex=True)\n",
    "print(spectrogram.shape)\n",
    "\n",
    "x0_reconstructed : Tensor = torch.istft(spectrogram, n_fft, hop_length, win_length)\n",
    "print(x0_reconstructed.shape)\n",
    "\n",
    "torchaudio.save(\"reconstructed.wav\", x0_reconstructed[0].unsqueeze(0), sample_rate)"
   ]
  }
 ],
 "metadata": {
  "kernelspec": {
   "display_name": ".venv",
   "language": "python",
   "name": "python3"
  },
  "language_info": {
   "codemirror_mode": {
    "name": "ipython",
    "version": 3
   },
   "file_extension": ".py",
   "mimetype": "text/x-python",
   "name": "python",
   "nbconvert_exporter": "python",
   "pygments_lexer": "ipython3",
   "version": "3.12.4"
  }
 },
 "nbformat": 4,
 "nbformat_minor": 2
}
