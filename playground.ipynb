{
 "cells": [
  {
   "cell_type": "code",
   "execution_count": 1,
   "metadata": {},
   "outputs": [
    {
     "name": "stderr",
     "output_type": "stream",
     "text": [
      "c:\\Users\\Andba\\miniconda3\\envs\\bachelor\\Lib\\site-packages\\tqdm\\auto.py:21: TqdmWarning: IProgress not found. Please update jupyter and ipywidgets. See https://ipywidgets.readthedocs.io/en/stable/user_install.html\n",
      "  from .autonotebook import tqdm as notebook_tqdm\n"
     ]
    },
    {
     "name": "stdout",
     "output_type": "stream",
     "text": [
      "10 9\n",
      "9 8\n",
      "8 7\n",
      "7 6\n",
      "6 5\n",
      "5 4\n",
      "4 3\n",
      "3 2\n",
      "2 1\n",
      "1 0\n"
     ]
    }
   ],
   "source": [
    "from src.lightning_modules import I2SB\n",
    "from src.networks import UNet2D\n",
    "import torch\n",
    "\n",
    "network = UNet2D(\n",
    "    in_channels = 1,\n",
    "    out_channels = 1,\n",
    "    block_out_channels = [32, 32, 32],\n",
    "    down_block_types = ['DownBlock2D', 'DownBlock2D', 'DownBlock2D'],\n",
    "    up_block_types = ['UpBlock2D', 'UpBlock2D', 'UpBlock2D']\n",
    ")\n",
    "\n",
    "model = I2SB(\n",
    "    model = network,\n",
    "    num_steps = 10,\n",
    "    min_beta = 1.e-5,\n",
    "    max_beta = 1.e-4\n",
    ")\n",
    "\n",
    "x = torch.randn(10, 1, 32, 32)\n",
    "y = model.sample(x)"
   ]
  },
  {
   "cell_type": "code",
   "execution_count": 2,
   "metadata": {},
   "outputs": [
    {
     "name": "stdout",
     "output_type": "stream",
     "text": [
      "tensor([ 0,  5, 10])\n"
     ]
    }
   ],
   "source": [
    "k = torch.linspace(0, 10, 3, dtype=torch.long)\n",
    "print(k)"
   ]
  }
 ],
 "metadata": {
  "kernelspec": {
   "display_name": "bachelor",
   "language": "python",
   "name": "python3"
  },
  "language_info": {
   "codemirror_mode": {
    "name": "ipython",
    "version": 3
   },
   "file_extension": ".py",
   "mimetype": "text/x-python",
   "name": "python",
   "nbconvert_exporter": "python",
   "pygments_lexer": "ipython3",
   "version": "3.12.4"
  }
 },
 "nbformat": 4,
 "nbformat_minor": 2
}
