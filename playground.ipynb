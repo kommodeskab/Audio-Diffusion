{
 "cells": [
  {
   "cell_type": "code",
   "execution_count": null,
   "metadata": {},
   "outputs": [
    {
     "name": "stdout",
     "output_type": "stream",
     "text": [
      "(tensor(1.), tensor(0.), tensor(0.))\n",
      "(tensor(0.), tensor(1.), tensor(0.))\n"
     ]
    }
   ],
   "source": [
    "import torch\n",
    "from torch import Tensor\n",
    "import math\n",
    "\n",
    "class Scheduler:\n",
    "    def __init__(\n",
    "        self,\n",
    "        num_steps : int,\n",
    "        min_beta : float,\n",
    "        max_beta : float,\n",
    "        T : float | None = None\n",
    "        ):\n",
    "        self.num_steps = num_steps\n",
    "        self.timesteps = torch.arange(num_steps + 1)\n",
    "        self.delta_t = 1 / num_steps\n",
    "        \n",
    "        self.timesteps = torch.arange(num_steps + 1)\n",
    "        betas = torch.zeros(num_steps)\n",
    "        first_betas_len = math.ceil(num_steps / 2)\n",
    "        betas[:first_betas_len] = torch.linspace(min_beta, max_beta, first_betas_len)\n",
    "        betas[-first_betas_len:] = torch.flip(betas[:first_betas_len], [0])\n",
    "        self.betas = torch.cat([torch.zeros(1), betas])\n",
    "        self.sigmas_2 = torch.cumsum(self.betas, 0)\n",
    "        self.sigmas_2_bar = torch.flip(self.sigmas_2, [0])\n",
    "        \n",
    "        if T is not None:\n",
    "            self.betas = self.betas / self.betas.sum() * T\n",
    "        else:\n",
    "            self.T = self.betas.sum()\n",
    "        \n",
    "        sigmas_2 = torch.cumsum(self.betas, 0)\n",
    "        self.sigmas_2 = torch.cat([torch.zeros(1), sigmas_2])\n",
    "        self.sigmas_2_bar = torch.flip(self.sigmas_2, [0])\n",
    "        \n",
    "    def shape_for_constant(self, shape : tuple[int]) -> tuple[int]:\n",
    "        return [-1] + [1] * (len(shape) - 1) \n",
    "    \n",
    "    def to_tensor(self, value : int, batch_size : int) -> Tensor:\n",
    "        return torch.full((batch_size,), value, dtype=torch.long)\n",
    "    \n",
    "    def reshape_constants(self, constants : list[Tensor], shape : tuple[int]) -> list[Tensor]:\n",
    "        return [constant.view(self.shape_for_constant(shape)) for constant in constants]     \n",
    " \n",
    "    def sample_timestep(self, batch_size : int) -> Tensor:\n",
    "        return torch.randint(1, self.num_steps + 1, (batch_size,))\n",
    "    \n",
    "    def sample_posterior(self, x0 : Tensor, x1 : Tensor, n : int | None = None) -> tuple[Tensor, Tensor]:\n",
    "        shape = x0.shape\n",
    "        batch_size = shape[0]\n",
    "        ns = self.to_tensor(n, batch_size) if n is not None else self.sample_timestep(batch_size)\n",
    "        sigmas_2 = self.sigmas_2[ns]\n",
    "        sigmas_2_bar = self.sigmas_2_bar[ns]\n",
    "        mu_1, mu_2, sigma = self.gaussian_product(sigmas_2_bar, sigmas_2)\n",
    "        mu_1, mu_2, sigma = self.reshape_constants([mu_1, mu_2, sigma], shape)\n",
    "        mu = mu_1 * x0 + mu_2 * x1\n",
    "        std = torch.sqrt(sigma)\n",
    "        return mu + std * torch.randn_like(mu), ns\n",
    "        \n",
    "    def gaussian_product(self, v1 : Tensor, v2 : Tensor) -> tuple[Tensor, Tensor]:\n",
    "        mu_1 = v1 / (v1 + v2)\n",
    "        mu_2 = v2 / (v1 + v2)\n",
    "        sigma = v1 * v2 / (v1 + v2)\n",
    "        \n",
    "        return mu_1, mu_2, sigma\n",
    "    \n",
    "scheduler = Scheduler(12, 1, 10)\n",
    "print(scheduler.gaussian_product(scheduler.sigmas_2_bar[0], scheduler.sigmas_2[0]))\n",
    "print(scheduler.gaussian_product(scheduler.sigmas_2_bar[-1], scheduler.sigmas_2[-1]))"
   ]
  },
  {
   "cell_type": "code",
   "execution_count": 4,
   "metadata": {},
   "outputs": [],
   "source": [
    "from src.lightning_modules import I2SB\n",
    "from src.networks import UNet2D\n",
    "import torch\n",
    "\n",
    "network = UNet2D(\n",
    "    in_channels = 1,\n",
    "    out_channels = 1,\n",
    "    block_out_channels = [32, 32, 32],\n",
    "    down_block_types = ['DownBlock2D', 'DownBlock2D', 'DownBlock2D'],\n",
    "    up_block_types = ['UpBlock2D', 'UpBlock2D', 'UpBlock2D']\n",
    ")\n",
    "\n",
    "model = I2SB(\n",
    "    model = network,\n",
    "    num_steps = 10,\n",
    "    min_beta = 0.1,\n",
    "    max_beta = 1,\n",
    "    T = 1.0,\n",
    ")"
   ]
  },
  {
   "cell_type": "code",
   "execution_count": 75,
   "metadata": {},
   "outputs": [
    {
     "name": "stdout",
     "output_type": "stream",
     "text": [
      "timesteps: 6\n",
      "betas: 6\n",
      "tensor([0.0000, 0.1000, 0.5500, 1.0000, 0.5500, 0.1000])\n",
      "sigmas_2: 6\n",
      "sigmas_2_bar: 6\n"
     ]
    }
   ],
   "source": [
    "import torch\n",
    "import math\n",
    "\n",
    "num_steps = 5\n",
    "timesteps = torch.arange(num_steps + 1)\n",
    "betas = torch.zeros(num_steps)\n",
    "first_betas_len = math.ceil(num_steps / 2)\n",
    "betas[:first_betas_len] = torch.linspace(0.1, 1, first_betas_len)\n",
    "betas[-first_betas_len:] = torch.flip(betas[:first_betas_len], [0])\n",
    "betas = torch.cat([torch.zeros(1), betas])\n",
    "sigmas_2 = torch.cumsum(betas, 0)\n",
    "sigmas_2_bar = torch.flip(sigmas_2, [0])\n",
    "\n",
    "print(\"timesteps:\", len(timesteps))\n",
    "print(\"betas:\", len(betas))\n",
    "print(betas)\n",
    "print(\"sigmas_2:\", len(sigmas_2))\n",
    "print(\"sigmas_2_bar:\", len(sigmas_2_bar))"
   ]
  },
  {
   "cell_type": "code",
   "execution_count": 65,
   "metadata": {},
   "outputs": [
    {
     "data": {
      "text/plain": [
       "3"
      ]
     },
     "execution_count": 65,
     "metadata": {},
     "output_type": "execute_result"
    }
   ],
   "source": [
    "import math\n",
    "math.ceil(6 / 2)"
   ]
  }
 ],
 "metadata": {
  "kernelspec": {
   "display_name": "bachelor",
   "language": "python",
   "name": "python3"
  },
  "language_info": {
   "codemirror_mode": {
    "name": "ipython",
    "version": 3
   },
   "file_extension": ".py",
   "mimetype": "text/x-python",
   "name": "python",
   "nbconvert_exporter": "python",
   "pygments_lexer": "ipython3",
   "version": "3.12.4"
  }
 },
 "nbformat": 4,
 "nbformat_minor": 2
}
